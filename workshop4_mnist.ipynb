{
 "cells": [
  {
   "cell_type": "markdown",
   "metadata": {},
   "source": [
    "# Image classification\n",
    "\n",
    "In this notebook we will classify handwitten digits 0 to 9 from the [MNIST dataset](https://en.wikipedia.org/wiki/MNIST_database), using first a simple neural network and then a convolutional neural network.\n",
    "\n",
    "The questions to answer are:\n",
    "\n",
    "1. How high can you get the accuracy?\n",
    "2. What is the influence of the model parameters:\n",
    "    * type and number of layers\n",
    "    * number of nodes\n",
    "    * activation functions\n",
    "    \n",
    "\n",
    "First, let's take a look at the data, by showing the first ten training images."
   ]
  },
  {
   "cell_type": "code",
   "execution_count": null,
   "metadata": {},
   "outputs": [],
   "source": [
    "import tensorflow as tf\n",
    "import matplotlib.pyplot as plt"
   ]
  },
  {
   "cell_type": "code",
   "execution_count": null,
   "metadata": {},
   "outputs": [],
   "source": [
    "# Get dataset and show first 10 training images\n",
    "mnist = tf.keras.datasets.mnist\n",
    "(x_train, y_train),(x_test, y_test) = mnist.load_data()\n",
    "x_train, x_test = x_train / 255.0, x_test / 255.0\n",
    "\n",
    "for x in x_train[:10]:\n",
    "    plt.imshow(x, cmap=plt.get_cmap('Greys'))\n",
    "    plt.show()"
   ]
  },
  {
   "cell_type": "markdown",
   "metadata": {},
   "source": [
    "## Neural network\n",
    "\n",
    "Now, let's try a simple neural network. First we need to flatten the image, using:\n",
    "\n",
    "```\n",
    "tf.keras.layers.Flatten(input_shape=(28, 28))\n",
    "```\n",
    "\n",
    "Then, we can add a dense layer, with:\n",
    "\n",
    "```\n",
    "tf.keras.layers.Dense(24, activation=tf.nn.relu)\n",
    "```\n",
    "\n",
    "Finally, we need to have 10 output nodes, which we can make using:\n",
    "\n",
    "```\n",
    "tf.keras.layers.Dense(10, activation=tf.nn.softmax)\n",
    "```\n",
    "\n",
    "If you want, you can add more layers yourself. You can also experiment with layer sizes, activation functions and the number of epochs.\n",
    "\n",
    "To see how well the layer performs, we use `model.fit(x_train, y_train)` and `model.evaluate(x_test, y_test)`."
   ]
  },
  {
   "cell_type": "code",
   "execution_count": null,
   "metadata": {},
   "outputs": [],
   "source": [
    "# Define a neural network\n",
    "model = tf.keras.models.Sequential([\n",
    "    tf.keras.layers.Flatten(input_shape=(28, 28)),\n",
    "    tf.keras.layers.Dense(24, activation=tf.nn.relu),\n",
    "    tf.keras.layers.Dense(10, activation=tf.nn.softmax)\n",
    "])\n",
    "model.compile(optimizer='adam', \n",
    "              loss='sparse_categorical_crossentropy', \n",
    "              metrics=['accuracy'])"
   ]
  },
  {
   "cell_type": "code",
   "execution_count": null,
   "metadata": {},
   "outputs": [],
   "source": [
    "# Fit model to training data.\n",
    "model.fit(x_train, y_train, epochs=3)"
   ]
  },
  {
   "cell_type": "code",
   "execution_count": null,
   "metadata": {},
   "outputs": [],
   "source": [
    "# Evaluate neural network.\n",
    "model.evaluate(x_test, y_test)"
   ]
  },
  {
   "cell_type": "markdown",
   "metadata": {},
   "source": [
    "## Convolutional neural network\n",
    "\n",
    "Let's compare those results with the results of a convolutional neural network. \n",
    "\n",
    "To add a convolutional layer, we can use:\n",
    "\n",
    "```\n",
    "tf.keras.layers.Conv2D(10, kernel_size=(3, 3), activation=tf.nn.relu)\n",
    "```\n",
    "\n",
    "It is important that you tell the *first* layer of the network what the input_shape is (in this case it is (28, 28, 1)). The other layers do not need this parameter.\n",
    "\n",
    "Then, we add a pooling layer, with:\n",
    "\n",
    "```\n",
    "tf.keras.layers.MaxPooling2D((2, 2))\n",
    "```\n",
    "\n",
    "You can try to add more convolutional layers yourself and see what happens!"
   ]
  },
  {
   "cell_type": "code",
   "execution_count": null,
   "metadata": {},
   "outputs": [],
   "source": [
    "# Define a convolutional neural network.\n",
    "model2 = tf.keras.models.Sequential([\n",
    "    tf.keras.layers.Conv2D(10, input_shape=(28, 28, 1), kernel_size=(3, 3), activation=tf.nn.relu),\n",
    "    tf.keras.layers.MaxPooling2D((2, 2)),\n",
    "    tf.keras.layers.Flatten(),\n",
    "    tf.keras.layers.Dense(24, activation=tf.nn.relu),\n",
    "    tf.keras.layers.Dense(10, activation=tf.nn.softmax)\n",
    "])\n",
    "model2.compile(optimizer='adam', \n",
    "               loss='sparse_categorical_crossentropy', \n",
    "               metrics=['accuracy'])"
   ]
  },
  {
   "cell_type": "code",
   "execution_count": null,
   "metadata": {},
   "outputs": [],
   "source": [
    "# Fit model to training data.\n",
    "x_train2 = x_train.reshape(60000, 28, 28, 1)\n",
    "model2.fit(x_train2, y_train, epochs=3)"
   ]
  },
  {
   "cell_type": "code",
   "execution_count": null,
   "metadata": {},
   "outputs": [],
   "source": [
    "# Evaluate convolutional neural network.\n",
    "x_test2 = x_test.reshape(10000, 28, 28, 1)\n",
    "model2.evaluate(x_test2, y_test)"
   ]
  },
  {
   "cell_type": "code",
   "execution_count": null,
   "metadata": {},
   "outputs": [],
   "source": []
  }
 ],
 "metadata": {
  "kernelspec": {
   "display_name": "Python 3",
   "language": "python",
   "name": "python3"
  },
  "language_info": {
   "codemirror_mode": {
    "name": "ipython",
    "version": 3
   },
   "file_extension": ".py",
   "mimetype": "text/x-python",
   "name": "python",
   "nbconvert_exporter": "python",
   "pygments_lexer": "ipython3",
   "version": "3.7.1"
  }
 },
 "nbformat": 4,
 "nbformat_minor": 2
}
